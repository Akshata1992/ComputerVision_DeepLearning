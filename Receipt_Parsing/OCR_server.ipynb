{
 "cells": [
  {
   "cell_type": "code",
   "execution_count": null,
   "metadata": {
    "pycharm": {
     "is_executing": false
    }
   },
   "outputs": [],
   "source": [
    "# Import required libraries to parse the content of image\n",
    "try:\n",
    "    from PIL import Image\n",
    "except ImportError:\n",
    "    import Image\n",
    "import pytesseract\n",
    "import os\n",
    "import cv2\n",
    "from pathlib import Path\n",
    "import matplotlib.image as mpimg\n",
    "import time, json, numpy"
   ]
  },
  {
   "cell_type": "code",
   "execution_count": null,
   "metadata": {
    "pycharm": {
     "is_executing": false
    }
   },
   "outputs": [],
   "source": [
    "#TEXT_PATH=Path.cwd()\n",
    "# Defining ocr function to read the content of the image and save the content in text file\n",
    "def ocr_core(filename):\n",
    "    \n",
    "    \"\"\"\n",
    "    Load the image and convert it into grayscale,resize it to fit the window using CV2 WINDOW NORMAL flag\n",
    "    \n",
    "    \"\"\"\n",
    "    #img = cv2.imread(filename)\n",
    "    img = mpimg.imread(filename)\n",
    "    gray = cv2.cvtColor(img,cv2.COLOR_BGR2GRAY)\n",
    "    \n",
    "    screen_res = 1280.0, 720.0 #keeping in floating point for better results\n",
    "    scale_width = screen_res[0] / img.shape[1]\n",
    "    scale_height = screen_res[1] / img.shape[0]\n",
    "    scale = min(scale_width, scale_height)\n",
    "    window_width = int(img.shape[1] * scale)\n",
    "    window_height = int(img.shape[0] * scale)\n",
    "    cv2.namedWindow('Image', cv2.WINDOW_NORMAL) \n",
    "    cv2.resizeWindow('Image', window_width, window_height)\n",
    "    \n",
    "    # Check for the threshold to be applied\n",
    "    gray = cv2.threshold(gray, 0, 255, cv2.THRESH_BINARY | cv2.THRESH_OTSU )[1]\n",
    "    \n",
    "     # Check for blurring to remove the noise\n",
    "    gray = cv2.medianBlur(gray,3)\n",
    "    \n",
    "    cv2.imshow(\"Image\",gray) # show the resized image to fit the window\n",
    "    cv2.waitKey(1000) #Wait untill a key is pressed\n",
    "    cv2.destroyAllWindows() # close the windoe after 1000ms\n",
    "    \n",
    "    # write the grayscale image to desk to apply OCR on it\n",
    "    filename= \"{}.png\".format(os.getpid())\n",
    "    cv2.imwrite(filename,gray)\n",
    "    \n",
    "    \"\"\"\n",
    "    This function will handle the core OCR processing of images.\n",
    "    \"\"\"\n",
    "    text = pytesseract.image_to_string(Image.open(filename))\n",
    "    os.remove(filename)\n",
    "    #print(text)\n",
    "    testText = 'test'\n",
    "    # write the OCR output into a text file\n",
    "    doc = open(\"receipttext.txt\", 'w+', encoding=\"utf-8\")\n",
    "    doc.write(text)\n",
    "    doc.close()\n",
    "    \n",
    "    return text\n",
    "\n",
    "#ocr_core('image3.jpeg')"
   ]
  },
  {
   "cell_type": "code",
   "execution_count": null,
   "metadata": {
    "pycharm": {
     "is_executing": false
    }
   },
   "outputs": [],
   "source": []
  },
  {
   "cell_type": "code",
   "execution_count": null,
   "metadata": {
    "pycharm": {
     "is_executing": false
    }
   },
   "outputs": [],
   "source": []
  }
 ],
 "metadata": {
  "kernelspec": {
   "display_name": "p1",
   "language": "python",
   "name": "p1"
  },
  "language_info": {
   "codemirror_mode": {
    "name": "ipython",
    "version": 3
   },
   "file_extension": ".py",
   "mimetype": "text/x-python",
   "name": "python",
   "nbconvert_exporter": "python",
   "pygments_lexer": "ipython3",
   "version": "3.6.4"
  }
 },
 "nbformat": 4,
 "nbformat_minor": 2
}
