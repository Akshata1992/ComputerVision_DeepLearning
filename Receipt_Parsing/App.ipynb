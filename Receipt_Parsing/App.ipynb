{
 "cells": [
  {
   "cell_type": "code",
   "execution_count": 1,
   "metadata": {},
   "outputs": [
    {
     "name": "stdout",
     "output_type": "stream",
     "text": [
      "importing Jupyter notebook from OCR_server.ipynb\n",
      "importing Jupyter notebook from recognition.ipynb\n"
     ]
    }
   ],
   "source": [
    "import os\n",
    "from flask import Flask,render_template,request\n",
    "import import_ipynb\n",
    "from OCR_server import ocr_core\n",
    "from recognition import shapeDetect"
   ]
  },
  {
   "cell_type": "code",
   "execution_count": null,
   "metadata": {},
   "outputs": [
    {
     "name": "stderr",
     "output_type": "stream",
     "text": [
      " * Running on http://127.0.0.1:5000/ (Press CTRL+C to quit)\n",
      "127.0.0.1 - - [24/Jan/2020 20:15:59] \"\u001b[37mGET / HTTP/1.1\u001b[0m\" 200 -\n",
      "127.0.0.1 - - [24/Jan/2020 20:16:00] \"\u001b[33mGET /favicon.ico HTTP/1.1\u001b[0m\" 404 -\n",
      "127.0.0.1 - - [24/Jan/2020 20:16:17] \"\u001b[37mGET /upload HTTP/1.1\u001b[0m\" 200 -\n"
     ]
    },
    {
     "name": "stdout",
     "output_type": "stream",
     "text": [
      "True\n"
     ]
    },
    {
     "name": "stderr",
     "output_type": "stream",
     "text": [
      "127.0.0.1 - - [24/Jan/2020 20:17:07] \"\u001b[37mPOST /upload HTTP/1.1\u001b[0m\" 200 -\n"
     ]
    }
   ],
   "source": [
    "#define a folder to store and later serve the images\n",
    "UPLOAD_FOLDER='/static/uploads/'\n",
    "\n",
    "#allow files of a specific type\n",
    "ALLOWED_EXTENSIONS= set(['png','jpg','jpeg'])\n",
    "\n",
    "app= Flask(__name__)\n",
    "\n",
    "#function to check file extensions\n",
    "def allowed_file(filename):\n",
    "    return '.' in filename and \\\n",
    "            filename.rsplit('.',1)[1].lower() in ALLOWED_EXTENSIONS\n",
    "#function to check image is a receipt\n",
    "\n",
    "#def receipt_image(image):\n",
    "#    import\n",
    "# Route and function to handle the home page\n",
    "@app.route('/',methods=['GET','POST'])\n",
    "def home():\n",
    "    return render_template('index.html')\n",
    "\n",
    "#Route and function to handle the load page\n",
    "@app.route('/upload', methods=['GET','POST'])\n",
    "def upload():\n",
    "    if request.method == 'POST':      \n",
    "        #check if there is file in the request\n",
    "        if 'file' not in request.files:\n",
    "            return render_template('upload.html', msg='No file selected')\n",
    "        file = request.files['file']\n",
    "        #if no file is selected\n",
    "        if file.filename == '':\n",
    "            return render_template('upload.html', msg='No file selected')  \n",
    "        \n",
    "        if file and allowed_file(file.filename): \n",
    "        #Check whether image is a receipt\n",
    "            check_image = shapeDetect(file)\n",
    "            print(check_image)\n",
    "        #call the OCR function on it\n",
    "            extracted_text = ocr_core(file)   \n",
    "        #extract the text and display it\n",
    "            return render_template('upload.html',\n",
    "                                msg='Successfully processed',check_image=check_image,extracted_text=extracted_text)\n",
    "                                #img_src=UPLOAD_FOLDER + file.filename)\n",
    "        else:\n",
    "            return render_template('upload.html', msg='Select png/jpg/jpeg file')\n",
    "        \n",
    "    elif request.method == 'GET':\n",
    "        return render_template('upload.html')\n",
    "    \n",
    "#app = QApplication(sys.argv)\n",
    "#app.aboutToQuit.connect(app.deleteLater)\n",
    "\n",
    "if __name__=='__main__':\n",
    "    app.run()"
   ]
  },
  {
   "cell_type": "code",
   "execution_count": null,
   "metadata": {},
   "outputs": [],
   "source": []
  },
  {
   "cell_type": "code",
   "execution_count": null,
   "metadata": {},
   "outputs": [],
   "source": []
  }
 ],
 "metadata": {
  "kernelspec": {
   "display_name": "p1",
   "language": "python",
   "name": "p1"
  },
  "language_info": {
   "codemirror_mode": {
    "name": "ipython",
    "version": 3
   },
   "file_extension": ".py",
   "mimetype": "text/x-python",
   "name": "python",
   "nbconvert_exporter": "python",
   "pygments_lexer": "ipython3",
   "version": "3.6.4"
  },
  "pycharm": {
   "stem_cell": {
    "cell_type": "raw",
    "metadata": {
     "collapsed": false
    },
    "source": []
   }
  }
 },
 "nbformat": 4,
 "nbformat_minor": 2
}
